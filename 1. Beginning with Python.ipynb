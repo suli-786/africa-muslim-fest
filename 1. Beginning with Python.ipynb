{
  "cells": [
    {
      "cell_type": "markdown",
      "metadata": {
        "id": "view-in-github",
        "colab_type": "text"
      },
      "source": [
        "<a href=\"https://colab.research.google.com/github/suli-786/africa-muslim-fest/blob/main/1.%20Beginning%20with%20Python.ipynb\" target=\"_parent\"><img src=\"https://colab.research.google.com/assets/colab-badge.svg\" alt=\"Open In Colab\"/></a>"
      ]
    },
    {
      "cell_type": "markdown",
      "metadata": {
        "id": "pkg0_3Lb3EVf"
      },
      "source": [
        "<div class=\"alert alert-block alert-info\" style=\"background-color: #301E40; border: 0px; -moz-border-radius: 10px; -webkit-border-radius: 10px;\">\n",
        "<br/><br/>\n",
        "<h1 style=\"font-size: 45px; color: white; align: center;\"><center>\n",
        "<img src=\"https://raw.githubusercontent.com/HumbleData/beginners-data-workshop/master/media/humble-data-logo-white-transparent.png\" width=\"250px\" /><br/><br/>\n",
        "Introduction to Python\n",
        "</center></h1>\n",
        "</div>"
      ]
    },
    {
      "cell_type": "markdown",
      "metadata": {
        "id": "gJIv0WbH3EVh"
      },
      "source": [
        "## Welcome to learning Python!\n",
        "\n",
        "These notebooks contain a mix of text and code. This makes it easy to experiment with code and keep documentation like this in the same place. Another nice thing about these notebooks is that you can execute each cell individually and therefore work incrementally with your code. If you want to execute a cell, you can press the \"►\" button above when you have highlighted the cell. Alternatively, you can hit **Shift + Enter** to execute and progress to next cell or alternatively **Ctrl + Enter** (Win) or **Cmd + Enter** (Mac).\n",
        "\n",
        "We will walk you through different aspects of the Python language interactively. Take your time to experiment with it if you like and don't hesitate to ask or Google things. One of the first lessons in programming is using the documentation and information shared by other programmers. Jupyter has another trick, where you can put your cursor into the brackets of a function call such as `print()` and hit **Shift + Tab**. This will let you see the documentation of a function directly in the notebook (*pro-tip*: you can hit it up to four times for different effects).\n",
        "\n",
        "As for Python itself, one of the big strengths of Python is the extensibility. It has a surprising amount of functionality directly within the core language, however, you can `import` almost arbitrary code others make available as libraries. Below you can see a special import that shows you the \"Zen of Python\" a set of guidelines that could guide your programming journey.\""
      ]
    },
    {
      "metadata": {
        "id": "aAKIGUZV3EVh"
      },
      "cell_type": "code",
      "outputs": [],
      "execution_count": null,
      "source": [
        "# We can use comments to document our code in a coding cell.\n",
        "import this  # Zen of Python"
      ]
    },
    {
      "metadata": {
        "id": "iZRpvMuF3EVi"
      },
      "cell_type": "markdown",
      "source": [
        "**--> Simple is better than complex.**  \n",
        "It is really easy to print ***Hello World*** in Python:"
      ]
    },
    {
      "metadata": {
        "id": "T9XVnxOS3EVj"
      },
      "cell_type": "code",
      "outputs": [],
      "execution_count": null,
      "source": [
        "print('Hello World!')"
      ]
    },
    {
      "metadata": {
        "id": "aK5NRRop3EVj"
      },
      "cell_type": "markdown",
      "source": [
        "**PEP 8** is Python's style guide. You can find it here:\n",
        "https://www.python.org/dev/peps/pep-0008/\n",
        "\n",
        "It is good to know about, but when you become a professional programmer there are programs called a \"linter\" that will help you adhere to PEP 8."
      ]
    },
    {
      "metadata": {
        "id": "DLU_3OIC3EVj"
      },
      "cell_type": "markdown",
      "source": [
        "<div class=\"alert alert-block alert-warning\" style=\"padding: 0px; padding-left: 20px; padding-top: 5px;\"><h2 style=\"color: #301E40\">\n",
        "Variables\n",
        "</h2><br>\n",
        "</div>"
      ]
    },
    {
      "metadata": {
        "id": "TveIk0zT3EVk"
      },
      "cell_type": "markdown",
      "source": [
        "In programming it's very useful to store values. Accessing values through names is called a variable. Python is very user-friendly in that it will let you store most things in a variable, without making space in the computer's space explicitly. Moreover, computers need to differentiate between the type of data, such as, `5` being an integer and `'Hello'` being a string, but Python attempts to handle these intuitively for you. You will learn about the different types in the following sections!\n",
        "\n",
        "**Python is an object oriented programming language. You do not need to declare variables (or their types) before using them as every variable in Python is an object.**"
      ]
    },
    {
      "metadata": {
        "id": "SM9e7unt3EVk"
      },
      "cell_type": "code",
      "outputs": [],
      "execution_count": null,
      "source": [
        "name = 'Sandrine'"
      ]
    },
    {
      "metadata": {
        "id": "N6tEnpWh3EVk"
      },
      "cell_type": "code",
      "outputs": [],
      "execution_count": null,
      "source": [
        "print(name)"
      ]
    },
    {
      "metadata": {
        "id": "HqeYUjVc3EVl"
      },
      "cell_type": "markdown",
      "source": [
        "Moreover, variables can easily be updated. Try it out below!"
      ]
    },
    {
      "metadata": {
        "id": "y8VxiBf43EVl"
      },
      "cell_type": "markdown",
      "source": [
        "---\n",
        "\n",
        "***Note***: when you see cells that starts with `# !cat` means that it is a cell that can give you ***a*** solution. Remember there can be more than one solution to a problem in programming!\n",
        "\n",
        "If you would like to see the solution, you will have to remove the `#` using **Ctrl + /** (Windows) or **Cmd + /** (macOS) and then run the cell.\n",
        "\n",
        "Try solving it yourself before getting the solution.\n",
        "\n",
        "\n",
        "---"
      ]
    },
    {
      "metadata": {
        "id": "pJb0s7lT3EVl"
      },
      "cell_type": "markdown",
      "source": [
        ">Assign another string to the variable 'name' and print this variable"
      ]
    },
    {
      "metadata": {
        "id": "EGw2CFYq3EVl"
      },
      "cell_type": "code",
      "outputs": [],
      "execution_count": 2,
      "source": [
        "name = 'suli'"
      ]
    },
    {
      "metadata": {
        "colab": {
          "base_uri": "https://localhost:8080/"
        },
        "id": "2AjllZY23EVl",
        "outputId": "ba6c18ba-6f79-4968-b876-ffd60589dbe8"
      },
      "cell_type": "code",
      "outputs": [
        {
          "output_type": "stream",
          "name": "stdout",
          "text": [
            "suli\n"
          ]
        }
      ],
      "execution_count": 5,
      "source": [
        "print(name)"
      ]
    },
    {
      "metadata": {
        "id": "dh5Q4Hst3EVl"
      },
      "cell_type": "markdown",
      "source": [
        "**!!! Variable can change type when re-assigned.**"
      ]
    },
    {
      "metadata": {
        "id": "hnmgw-1v3EVl"
      },
      "cell_type": "markdown",
      "source": [
        ">Assign a number (without quotes) to the variable 'name' and print this variable"
      ]
    },
    {
      "metadata": {
        "id": "qYiV3fMq3EVl"
      },
      "cell_type": "code",
      "outputs": [],
      "execution_count": null,
      "source": [
        "name = 8"
      ]
    },
    {
      "cell_type": "code",
      "source": [
        "print(name)"
      ],
      "metadata": {
        "id": "rMDdwhOq4R_c"
      },
      "execution_count": null,
      "outputs": []
    },
    {
      "metadata": {
        "collapsed": true,
        "colab": {
          "base_uri": "https://localhost:8080/",
          "height": 106
        },
        "id": "OSSgkxql3EVm",
        "outputId": "bde71d9b-df8c-433d-fa9c-0306e1fd9405"
      },
      "cell_type": "code",
      "outputs": [
        {
          "output_type": "error",
          "ename": "SyntaxError",
          "evalue": "invalid decimal literal (ipython-input-1106574434.py, line 1)",
          "traceback": [
            "\u001b[0;36m  File \u001b[0;32m\"/tmp/ipython-input-1106574434.py\"\u001b[0;36m, line \u001b[0;32m1\u001b[0m\n\u001b[0;31m    solutions/01_02.py\u001b[0m\n\u001b[0m                   ^\u001b[0m\n\u001b[0;31mSyntaxError\u001b[0m\u001b[0;31m:\u001b[0m invalid decimal literal\n"
          ]
        }
      ],
      "execution_count": 7,
      "source": [
        "# !cat solutions/01_02.py"
      ]
    },
    {
      "metadata": {
        "id": "Z-6GptHQ3EVm"
      },
      "cell_type": "markdown",
      "source": [
        "---"
      ]
    },
    {
      "metadata": {
        "id": "4lgLP-Je3EVm"
      },
      "cell_type": "markdown",
      "source": [
        "<div class=\"alert alert-block alert-warning\" style=\"padding: 0px; padding-left: 20px; padding-top: 5px;\"><h2 style=\"color: #301E40\">\n",
        "Strings\n",
        "</h2><br>\n",
        "</div>"
      ]
    },
    {
      "metadata": {
        "id": "73puoNb73EVm"
      },
      "cell_type": "markdown",
      "source": [
        "A string always begins and ends with a single ( ' ) or double ( \\\" ) quotes. There is no difference, except if there is an apostrophe ( ' ) inside the string."
      ]
    },
    {
      "metadata": {
        "id": "I0SX8z9h3EVm"
      },
      "cell_type": "code",
      "outputs": [],
      "execution_count": null,
      "source": [
        "'Beginners Data Workshop'"
      ]
    },
    {
      "metadata": {
        "id": "oDaz2c_v3EVm"
      },
      "cell_type": "code",
      "outputs": [],
      "execution_count": null,
      "source": [
        "\"Beginner's Data Workshop\""
      ]
    },
    {
      "metadata": {
        "id": "aSHgw3WX3EVm"
      },
      "cell_type": "markdown",
      "source": [
        ">Write *I'm enjoying this workshop!* using double quotes, and then single quotes."
      ]
    },
    {
      "metadata": {
        "id": "ExyxxifK3EVm"
      },
      "cell_type": "code",
      "outputs": [],
      "execution_count": null,
      "source": [
        "\"I'm enjoying this workshop!\"\n"
      ]
    },
    {
      "metadata": {
        "id": "poZlSlj13EVm"
      },
      "cell_type": "code",
      "outputs": [],
      "execution_count": null,
      "source": [
        "# !cat solutions/01_03.py"
      ]
    },
    {
      "metadata": {
        "id": "SAUXlPpV3EVm"
      },
      "cell_type": "code",
      "outputs": [],
      "execution_count": null,
      "source": [
        "'I\\'m enjoying this workshop!'"
      ]
    },
    {
      "metadata": {
        "id": "KHtqL4qW3EVm"
      },
      "cell_type": "code",
      "outputs": [],
      "execution_count": null,
      "source": [
        "# !cat solutions/01_04.py"
      ]
    },
    {
      "metadata": {
        "id": "tN8k5v4Z3EVn"
      },
      "cell_type": "markdown",
      "source": [
        "**Oh no, an error!** Errors are nothing to be afraid of. Think of them as friendly messages trying to help you understand what's gone wrong. Here's how to read this:\n",
        "- Read errors backwards, so start at the bottom! It's a \"SyntaxError\" which means there's something wrong with our Python code.\n",
        "- There's a tiny arrow `^` pointing to what went wrong. Something near the m of `I'm`\n",
        "- On the top line, it says the error was on \"line 2\". This is often helpful when trying to fix (or \"debug\") broken code.\n",
        "\n",
        "**It turns out, if you want to use single quotes inside single quotes, you need to \"escape\" the quote with a backslash ( \\\\ ).**\n",
        "\n",
        ">Let's try that!"
      ]
    },
    {
      "metadata": {
        "id": "Td3t1JTO3EVn"
      },
      "cell_type": "code",
      "outputs": [],
      "execution_count": null,
      "source": [
        "# single quotes, second try\n",
        "'I\\'m enjoying this workshop!'"
      ]
    },
    {
      "metadata": {
        "id": "OCCTg1Fa3EVn"
      },
      "cell_type": "code",
      "outputs": [],
      "execution_count": null,
      "source": [
        "!cat solutions/01_05.py"
      ]
    },
    {
      "metadata": {
        "id": "9eJV0PDX3EVn"
      },
      "cell_type": "markdown",
      "source": [
        "As mentioned before, Python tries to handle everything as intuitively as possible. That means strings can be added together."
      ]
    },
    {
      "metadata": {
        "id": "j-WTgkUr3EVn"
      },
      "cell_type": "code",
      "outputs": [],
      "execution_count": null,
      "source": [
        "'We are ' + 'everywhere around the world.'"
      ]
    },
    {
      "metadata": {
        "id": "sm31aNWo3EVn"
      },
      "cell_type": "markdown",
      "source": [
        "Also, strings can even be multiplied by a number."
      ]
    },
    {
      "metadata": {
        "id": "_ZYMgP853EVn"
      },
      "cell_type": "code",
      "outputs": [],
      "execution_count": null,
      "source": [
        "'Great! 🎉' * 3"
      ]
    },
    {
      "metadata": {
        "id": "cicHcl8o3EVn"
      },
      "cell_type": "code",
      "outputs": [],
      "execution_count": null,
      "source": [
        "'😂' * 50"
      ]
    },
    {
      "metadata": {
        "id": "5s_NXTr33EVn"
      },
      "cell_type": "markdown",
      "source": [
        "We can access parts of strings by slicing the string. A character of a string (which is considered as a string of length 1 by Python) using slice, and a substring using slice range. Something important to note:\n",
        "\n",
        "**!!! Like birthdays, Python starts counting from 0! (It is \"zero-indexed\")**\n",
        "\n",
        "(If you're interested why, here's a historical [letter from Dijkstra](https://www.cs.utexas.edu/users/EWD/transcriptions/EWD08xx/EWD831.html) about it.)"
      ]
    },
    {
      "metadata": {
        "id": "TAJYj5Zm3EVn"
      },
      "cell_type": "markdown",
      "source": [
        "![image.png](attachment:image.png)"
      ]
    },
    {
      "metadata": {
        "id": "OvhA697Q3EVs"
      },
      "cell_type": "code",
      "outputs": [],
      "execution_count": 10,
      "source": [
        "s = 'I am a Pythonista.'"
      ]
    },
    {
      "metadata": {
        "id": "Y7qc7f5D3EVs"
      },
      "cell_type": "markdown",
      "source": [
        "***Slice***  \n",
        "We can access characters of a string by referencing the position (\"index\") numbers within square brackets."
      ]
    },
    {
      "metadata": {
        "colab": {
          "base_uri": "https://localhost:8080/",
          "height": 35
        },
        "id": "Q9js6sn83EVs",
        "outputId": "f833defa-a166-442b-b2f3-9285763dd7c8"
      },
      "cell_type": "code",
      "outputs": [
        {
          "output_type": "execute_result",
          "data": {
            "text/plain": [
              "'I'"
            ],
            "application/vnd.google.colaboratory.intrinsic+json": {
              "type": "string"
            }
          },
          "metadata": {},
          "execution_count": 11
        }
      ],
      "execution_count": 11,
      "source": [
        "# Selecting the first character of the string s\n",
        "s[0]"
      ]
    },
    {
      "metadata": {
        "id": "4LIqDbvw3EVs"
      },
      "cell_type": "markdown",
      "source": [
        "> Select the last character of the string s"
      ]
    },
    {
      "metadata": {
        "colab": {
          "base_uri": "https://localhost:8080/",
          "height": 35
        },
        "id": "U52HG-o13EVs",
        "outputId": "1412a044-b996-461a-bbc1-8a132e384997"
      },
      "cell_type": "code",
      "outputs": [
        {
          "output_type": "execute_result",
          "data": {
            "text/plain": [
              "'.'"
            ],
            "application/vnd.google.colaboratory.intrinsic+json": {
              "type": "string"
            }
          },
          "metadata": {},
          "execution_count": 12
        }
      ],
      "execution_count": 12,
      "source": [
        "s[-1]"
      ]
    },
    {
      "metadata": {
        "id": "QFsY_r7h3EVs"
      },
      "cell_type": "code",
      "outputs": [],
      "execution_count": null,
      "source": [
        "# !cat solutions/01_06.py"
      ]
    },
    {
      "metadata": {
        "id": "kxQRV3g93EVt"
      },
      "cell_type": "markdown",
      "source": [
        "***Slice range***  \n",
        "We can get a range of characters of a string by using a slicing range."
      ]
    },
    {
      "metadata": {
        "colab": {
          "base_uri": "https://localhost:8080/",
          "height": 35
        },
        "id": "Sl7R5yEe3EVt",
        "outputId": "e129c94c-5550-4538-a7f6-06fb111bc010"
      },
      "cell_type": "code",
      "outputs": [
        {
          "output_type": "execute_result",
          "data": {
            "text/plain": [
              "'am a'"
            ],
            "application/vnd.google.colaboratory.intrinsic+json": {
              "type": "string"
            }
          },
          "metadata": {},
          "execution_count": 13
        }
      ],
      "execution_count": 13,
      "source": [
        "# Select from position 2 up to but not including position 6 of the string s\n",
        "s[2:6]  # 6 is excluded"
      ]
    },
    {
      "metadata": {
        "id": "lGzLVCUV3EVt"
      },
      "cell_type": "markdown",
      "source": [
        "We can skip the start (resp. stop) number `s[:6]`. Then it start form index 0 (resp. end at the highest index)."
      ]
    },
    {
      "metadata": {
        "id": "QRNV1ay03EVt"
      },
      "cell_type": "markdown",
      "source": [
        ">Select the last 3 characters of the string s"
      ]
    },
    {
      "metadata": {
        "colab": {
          "base_uri": "https://localhost:8080/",
          "height": 35
        },
        "id": "oSkfKy6m3EVt",
        "outputId": "549cabb3-6ec7-4075-8df6-297017e11a7d"
      },
      "cell_type": "code",
      "outputs": [
        {
          "output_type": "execute_result",
          "data": {
            "text/plain": [
              "'ta.'"
            ],
            "application/vnd.google.colaboratory.intrinsic+json": {
              "type": "string"
            }
          },
          "metadata": {},
          "execution_count": 30
        }
      ],
      "execution_count": 30,
      "source": [
        "s[-3:]"
      ]
    },
    {
      "metadata": {
        "colab": {
          "base_uri": "https://localhost:8080/"
        },
        "id": "u8LkXy4g3EVt",
        "outputId": "9db2ac86-19ef-48ba-ef86-9da1899820b4"
      },
      "cell_type": "code",
      "outputs": [
        {
          "output_type": "stream",
          "name": "stdout",
          "text": [
            "cat: solutions/01_07.py: No such file or directory\n"
          ]
        }
      ],
      "execution_count": 21,
      "source": [
        "# !cat solutions/01_07.py"
      ]
    },
    {
      "metadata": {
        "id": "yzRsKvDN3EVt"
      },
      "cell_type": "markdown",
      "source": [
        "We can check if a string contains another string inside of it (a \"substring\"), using *in* and *not in*.\n",
        "\n",
        "**!!! Python is case-sensitive! The string `'a'` is not equal to `'A'`***"
      ]
    },
    {
      "metadata": {
        "id": "o7wdYXto3EVt"
      },
      "cell_type": "code",
      "outputs": [],
      "execution_count": null,
      "source": [
        "# Checking if s contains 'python'\n",
        "print(s)\n",
        "'python' in s"
      ]
    },
    {
      "metadata": {
        "id": "Sp6u5xIx3EVt"
      },
      "cell_type": "markdown",
      "source": [
        "> Check if s does not contain 'I' (capital i)"
      ]
    },
    {
      "metadata": {
        "colab": {
          "base_uri": "https://localhost:8080/"
        },
        "id": "5AQ8CzhG3EVt",
        "outputId": "97e053f0-1bcb-42d7-8f1d-250634d6ba34"
      },
      "cell_type": "code",
      "outputs": [
        {
          "output_type": "execute_result",
          "data": {
            "text/plain": [
              "True"
            ]
          },
          "metadata": {},
          "execution_count": 20
        }
      ],
      "execution_count": 20,
      "source": [
        "'I' in s"
      ]
    },
    {
      "metadata": {
        "id": "4Nkvags03EVt"
      },
      "cell_type": "code",
      "outputs": [],
      "execution_count": null,
      "source": [
        "# !cat solutions/01_08.py"
      ]
    },
    {
      "metadata": {
        "id": "RRUHbLmY3EVu"
      },
      "cell_type": "markdown",
      "source": [
        "---\n",
        "\n",
        "<div class=\"alert alert-block alert-warning\" style=\"padding: 0px; padding-left: 20px; padding-top: 5px;\"><h2 style=\"color: #301E40\">\n",
        "Numbers\n",
        "</h2><br>\n",
        "</div>"
      ]
    },
    {
      "metadata": {
        "id": "kfoXEPnb3EVu"
      },
      "cell_type": "markdown",
      "source": [
        "Python has different numerical types. Two of which are used more often than others:\n",
        "- **Integers:** These are whole numbers, i.e. `1`, `2`, `-5`\n",
        "- **Floats:** \"Floating point\" numbers are those with a decimal point, i.e. `3.14158`, `2.5`, `0.1` and even `3.0`.\n",
        "\n",
        "Python attempts to deal with these numbers intuitively when integers and floats are mixed."
      ]
    },
    {
      "metadata": {
        "id": "V_2HrIAK3EVu"
      },
      "cell_type": "markdown",
      "source": [
        "### Basic Operators"
      ]
    },
    {
      "metadata": {
        "id": "0JNS6uAK3EVu"
      },
      "cell_type": "markdown",
      "source": [
        "**Addition:**  \n",
        ">Try adding two numbers."
      ]
    },
    {
      "metadata": {
        "id": "P5TCJKiY3EVu"
      },
      "cell_type": "code",
      "outputs": [],
      "execution_count": null,
      "source": [
        "numa = 4 + 5"
      ]
    },
    {
      "metadata": {
        "id": "s_BoBNhA3EVu"
      },
      "cell_type": "code",
      "outputs": [],
      "execution_count": null,
      "source": [
        "# !cat solutions/01_09.py"
      ]
    },
    {
      "metadata": {
        "id": "tZK_WTCZ3EVu"
      },
      "cell_type": "markdown",
      "source": [
        "**Subtraction:**\n",
        "> Try subtracting two numbers."
      ]
    },
    {
      "metadata": {
        "id": "gT1d6j5Y3EVu"
      },
      "cell_type": "code",
      "outputs": [],
      "execution_count": null,
      "source": [
        "nums = 5 - 4"
      ]
    },
    {
      "metadata": {
        "id": "QblUdAgV3EVu"
      },
      "cell_type": "code",
      "outputs": [],
      "execution_count": null,
      "source": [
        "# !cat solutions/01_10.py"
      ]
    },
    {
      "metadata": {
        "id": "KXOAeVqn3EVu"
      },
      "cell_type": "markdown",
      "source": [
        "**Multiplication:**  \n",
        "The sign for multiplication is *.  \n",
        ">Try multiplying two numbers."
      ]
    },
    {
      "metadata": {
        "id": "q80Wf_aK3EVu"
      },
      "cell_type": "code",
      "outputs": [],
      "execution_count": null,
      "source": [
        "numm = 8 * 2"
      ]
    },
    {
      "metadata": {
        "id": "hLv2oxaD3EVv"
      },
      "cell_type": "code",
      "outputs": [],
      "execution_count": null,
      "source": [
        "# !cat solutions/01_11.py"
      ]
    },
    {
      "metadata": {
        "id": "_QJ24PBS3EVv"
      },
      "cell_type": "markdown",
      "source": [
        "**Exponent:**  \n",
        "The sign for exponent (or power) is *`**`*.\n",
        "\n",
        "> Try the power of an integer."
      ]
    },
    {
      "metadata": {
        "id": "OewXWN2B3EVv"
      },
      "cell_type": "code",
      "outputs": [],
      "execution_count": null,
      "source": [
        "numex = 3**2"
      ]
    },
    {
      "metadata": {
        "id": "OYl8eUxx3EVv"
      },
      "cell_type": "code",
      "outputs": [],
      "execution_count": null,
      "source": [
        "# !cat solutions/01_12.py"
      ]
    },
    {
      "metadata": {
        "id": "yDyUcM_w3EVv"
      },
      "cell_type": "markdown",
      "source": [
        ">Try the power of a float"
      ]
    },
    {
      "metadata": {
        "id": "xlJDHRJX3EVv"
      },
      "cell_type": "code",
      "outputs": [],
      "execution_count": null,
      "source": [
        "numf = 3.2225"
      ]
    },
    {
      "metadata": {
        "id": "3GXWx6x43EVv"
      },
      "cell_type": "code",
      "outputs": [],
      "execution_count": null,
      "source": [
        "# !cat solutions/01_13.py"
      ]
    },
    {
      "metadata": {
        "id": "9t2cNSsa3EVv"
      },
      "cell_type": "markdown",
      "source": [
        ">Try the power of an integer written as a float (e.g. 12.0)"
      ]
    },
    {
      "metadata": {
        "id": "F6byaTyG3EVv"
      },
      "cell_type": "code",
      "outputs": [],
      "execution_count": null,
      "source": [
        "num = 12.0"
      ]
    },
    {
      "metadata": {
        "id": "efqBf87o3EVv"
      },
      "cell_type": "code",
      "outputs": [],
      "execution_count": null,
      "source": [
        "# !cat solutions/01_14.py"
      ]
    },
    {
      "metadata": {
        "id": "a1m7IZgL3EVw"
      },
      "cell_type": "markdown",
      "source": [
        "**Division and modulo**\n",
        "- The sign for division is **`/`**.\n",
        "- The sign for floor division is **`//`**. It returns the \"quotient\" of a division - how many times one number goes into another. (\"If a carton holds six eggs, and we have 99 eggs, how many cartons can we fill?\")\n",
        "- The **`%`** sign is the [modulo](https://en.wikipedia.org/wiki/Modulo_operation), which returns the \"remainder\" after division."
      ]
    },
    {
      "metadata": {
        "id": "mSi-EehT3EVw"
      },
      "cell_type": "markdown",
      "source": [
        ">Divide 6 by 2"
      ]
    },
    {
      "metadata": {
        "id": "Jh0pP5Yg3EVw"
      },
      "cell_type": "code",
      "outputs": [],
      "execution_count": null,
      "source": []
    },
    {
      "metadata": {
        "id": "8dRaZ6R13EVw"
      },
      "cell_type": "code",
      "outputs": [],
      "execution_count": null,
      "source": [
        "# !cat solutions/01_15.py"
      ]
    },
    {
      "metadata": {
        "id": "oRJFoqIz3EVw"
      },
      "cell_type": "markdown",
      "source": [
        ">Try the floor division of 6 by 2"
      ]
    },
    {
      "metadata": {
        "id": "qIs54Yys3EVw"
      },
      "cell_type": "code",
      "outputs": [],
      "execution_count": null,
      "source": []
    },
    {
      "metadata": {
        "id": "YElSuaId3EVw"
      },
      "cell_type": "code",
      "outputs": [],
      "execution_count": null,
      "source": [
        "# !cat solutions/01_16.py"
      ]
    },
    {
      "metadata": {
        "id": "C4g0FutX3EVw"
      },
      "cell_type": "markdown",
      "source": [
        ">Divide 19 by 5"
      ]
    },
    {
      "metadata": {
        "id": "xvB5gZUL3EVw"
      },
      "cell_type": "code",
      "outputs": [],
      "execution_count": null,
      "source": []
    },
    {
      "metadata": {
        "id": "1ODjldIz3EVw"
      },
      "cell_type": "code",
      "outputs": [],
      "execution_count": null,
      "source": [
        "# !cat solutions/01_17.py"
      ]
    },
    {
      "metadata": {
        "id": "gKp8iSz63EVw"
      },
      "cell_type": "markdown",
      "source": [
        "*Note*: division returns a float."
      ]
    },
    {
      "metadata": {
        "id": "x9122_LH3EVx"
      },
      "cell_type": "markdown",
      "source": [
        "**The floor division returns an int, the non-fractional part.**  \n",
        ">Try the floor division of 19 by 5"
      ]
    },
    {
      "metadata": {
        "id": "3M9IcKrM3EVx"
      },
      "cell_type": "code",
      "outputs": [],
      "execution_count": null,
      "source": []
    },
    {
      "metadata": {
        "id": "lU6B0WkL3EVx"
      },
      "cell_type": "code",
      "outputs": [],
      "execution_count": null,
      "source": [
        "# !cat solutions/01_18.py"
      ]
    },
    {
      "metadata": {
        "id": "uFi9pWYR3EVx"
      },
      "cell_type": "markdown",
      "source": [
        "**Modulo returns the remainder of the division**"
      ]
    },
    {
      "metadata": {
        "id": "hqq830uv3EVx"
      },
      "cell_type": "markdown",
      "source": [
        ">Calculate 19 modulo 5"
      ]
    },
    {
      "metadata": {
        "id": "sHWxsKgU3EVx"
      },
      "cell_type": "code",
      "outputs": [],
      "execution_count": null,
      "source": [
        "mudu = 19%5"
      ]
    },
    {
      "metadata": {
        "id": "QVyBxIae3EVx"
      },
      "cell_type": "code",
      "outputs": [],
      "execution_count": null,
      "source": [
        "# !cat solutions/01_19.py"
      ]
    },
    {
      "metadata": {
        "id": "iIpNu1aZ3EVx"
      },
      "cell_type": "markdown",
      "source": [
        "**--> 19 = 3 * 5 + 4**"
      ]
    },
    {
      "metadata": {
        "id": "wQ8_38ha3EVx"
      },
      "cell_type": "markdown",
      "source": [
        "---\n",
        "\n",
        "<div class=\"alert alert-block alert-warning\" style=\"padding: 0px; padding-left: 20px; padding-top: 5px;\"><h2 style=\"color: #301E40\">\n",
        "Order of operations\n",
        "</h2><br>\n",
        "</div>"
      ]
    },
    {
      "metadata": {
        "id": "Litia-v93EVx"
      },
      "cell_type": "markdown",
      "source": [
        "The order of operations in Python respects the usual rules of mathematics (brackets -> powers -> division/multiplication -> add/subtract). **If in doubt, use brackets** to make it clear (to yourself, and anyone who might be reading your code) what you're trying to do."
      ]
    },
    {
      "metadata": {
        "id": "XpvqwKW83EVx"
      },
      "cell_type": "code",
      "outputs": [],
      "execution_count": null,
      "source": [
        "5 + 6 * 10"
      ]
    },
    {
      "metadata": {
        "id": "UQxntk8F3EVy"
      },
      "cell_type": "code",
      "outputs": [],
      "execution_count": null,
      "source": [
        "(5 + 6) * 10"
      ]
    },
    {
      "metadata": {
        "id": "6sZF4oLu3EVy"
      },
      "cell_type": "markdown",
      "source": [
        "---\n",
        "\n",
        "<div class=\"alert alert-block alert-warning\" style=\"padding: 0px; padding-left: 20px; padding-top: 5px;\"><h2 style=\"color: #301E40\">\n",
        "Booleans\n",
        "</h2><br>\n",
        "</div>"
      ]
    },
    {
      "metadata": {
        "id": "FwXxx5G-3EVy"
      },
      "cell_type": "markdown",
      "source": [
        "Booleans are the two constant values `True` and `False`. The numerical value of 'True is '1' and the numerical value of 'False' is '0'. These values are especially important for comparisons, therefore, we'll also learn about a new operator:\n",
        "\n",
        "**`==`** is an equality operator,  different from **`=`** which is the assignment operator you used to assign variables."
      ]
    },
    {
      "metadata": {
        "id": "TNuuW3om3EVy"
      },
      "cell_type": "code",
      "outputs": [],
      "execution_count": null,
      "source": [
        "True == 1  # '==' is an equality operator,  different from '=' which is an assignment operator"
      ]
    },
    {
      "metadata": {
        "id": "sImKPz-i3EVy"
      },
      "cell_type": "code",
      "outputs": [],
      "execution_count": null,
      "source": [
        "False * 3"
      ]
    },
    {
      "metadata": {
        "id": "ofYbDN3h3EVy"
      },
      "cell_type": "markdown",
      "source": [
        "Using **`!=`** , check if `False` is not equal to `2`."
      ]
    },
    {
      "metadata": {
        "id": "BI893-4n3EVy"
      },
      "cell_type": "code",
      "outputs": [],
      "execution_count": null,
      "source": []
    },
    {
      "metadata": {
        "id": "MjT40jFd3EVy"
      },
      "cell_type": "code",
      "outputs": [],
      "execution_count": null,
      "source": [
        "# !cat solutions/01_20.py"
      ]
    },
    {
      "metadata": {
        "id": "LIehozeb3EVy"
      },
      "cell_type": "markdown",
      "source": [
        ">Check if the length of your name is greater than 8."
      ]
    },
    {
      "metadata": {
        "id": "80xmmXwW3EVy"
      },
      "cell_type": "code",
      "outputs": [],
      "execution_count": null,
      "source": []
    },
    {
      "metadata": {
        "id": "sWkGyeXl3EVy"
      },
      "cell_type": "code",
      "outputs": [],
      "execution_count": null,
      "source": [
        "# !cat solutions/01_21.py"
      ]
    },
    {
      "metadata": {
        "id": "KylXGYHl3EVy"
      },
      "cell_type": "markdown",
      "source": [
        "We can use `and` and `or` operators with booleans in Python. Type them below and see how the color of the text changes, because Python recognises the keyword! These can be used to chain together multiple comparisons. These follow mathematical logic.\n",
        "\n",
        "| A     | B     | A and B | A or B |\n",
        "| :---  | :---  | :---    | :---   |\n",
        "| True  | True  | True    | True   |\n",
        "| True  | False | False   | True   |\n",
        "| False | True  | False   | True   |\n",
        "| False | False | False   | False  |\n",
        "\n",
        "> Check if the length of your name is greater than 5 and the length of your mentor's name is less than 7."
      ]
    },
    {
      "metadata": {
        "id": "j632htYd3EVy"
      },
      "cell_type": "code",
      "outputs": [],
      "execution_count": null,
      "source": []
    },
    {
      "metadata": {
        "id": "xxuIZ3Ub3EVy"
      },
      "cell_type": "code",
      "outputs": [],
      "execution_count": null,
      "source": [
        "# !cat solutions/01_22.py"
      ]
    },
    {
      "metadata": {
        "id": "LPUwLHtm3EVz"
      },
      "cell_type": "markdown",
      "source": [
        "---\n",
        "\n",
        "<div class=\"alert alert-block alert-warning\" style=\"padding: 0px; padding-left: 20px; padding-top: 5px;\"><h2 style=\"color: #301E40\">\n",
        "Lists\n",
        "</h2><br>\n",
        "</div>"
      ]
    },
    {
      "metadata": {
        "id": "xeDBf24w3EVz"
      },
      "cell_type": "markdown",
      "source": [
        "A list is a list of comma-separated values between square brackets.\n",
        "\n",
        "The items of a list can have different types."
      ]
    },
    {
      "metadata": {
        "id": "bEenwJf-3EVz"
      },
      "cell_type": "code",
      "outputs": [],
      "execution_count": 32,
      "source": [
        "list_greeting = ['Hallo', 'Bonjour', 10, 'Hello', 'Ciao', False]"
      ]
    },
    {
      "metadata": {
        "id": "o9CInyh23EVz"
      },
      "cell_type": "markdown",
      "source": [
        "We can access a single value using a slice, and several values using slice range. Check the \"string slicing\" section above for this."
      ]
    },
    {
      "metadata": {
        "id": "9En7yrVu3EVz"
      },
      "cell_type": "markdown",
      "source": [
        ">Get the first item of the list."
      ]
    },
    {
      "metadata": {
        "colab": {
          "base_uri": "https://localhost:8080/",
          "height": 35
        },
        "id": "qj_j5g423EVz",
        "outputId": "7fa287f6-468f-4db0-ba90-4ac61bd197a8"
      },
      "cell_type": "code",
      "outputs": [
        {
          "output_type": "execute_result",
          "data": {
            "text/plain": [
              "'Hallo'"
            ],
            "application/vnd.google.colaboratory.intrinsic+json": {
              "type": "string"
            }
          },
          "metadata": {},
          "execution_count": 33
        }
      ],
      "execution_count": 33,
      "source": [
        "list_greeting[0]"
      ]
    },
    {
      "metadata": {
        "id": "Jkc5MuOT3EVz"
      },
      "cell_type": "code",
      "outputs": [],
      "execution_count": null,
      "source": [
        "# !cat solutions/01_23.py"
      ]
    },
    {
      "metadata": {
        "id": "Le6uNR8p3EVz"
      },
      "cell_type": "markdown",
      "source": [
        "Get every the items from the list, starting with the 4th one.\n",
        "\n",
        "Note that there is no need to put a number after the colon when when want to select until the end of the list."
      ]
    },
    {
      "metadata": {
        "id": "khJSt2aE3EVz"
      },
      "cell_type": "markdown",
      "source": [
        ">Get the items starting with the one with index 3 until the end of the list."
      ]
    },
    {
      "metadata": {
        "id": "pCQwSJ8h3EVz"
      },
      "cell_type": "code",
      "outputs": [],
      "execution_count": null,
      "source": []
    },
    {
      "metadata": {
        "id": "qGPWP5VZ3EVz"
      },
      "cell_type": "code",
      "outputs": [],
      "execution_count": null,
      "source": [
        "# !cat solutions/01_24.py"
      ]
    },
    {
      "metadata": {
        "id": "I5otGzHY3EV0"
      },
      "cell_type": "markdown",
      "source": [
        "**Get the items from the list until the 4th one.**"
      ]
    },
    {
      "metadata": {
        "id": "rve8VUBH3EV0"
      },
      "cell_type": "markdown",
      "source": [
        ">Get the items from the beginning of the list until the value with index 4 (index 4 is excluded)."
      ]
    },
    {
      "metadata": {
        "id": "NdUVSWfv3EV0"
      },
      "cell_type": "code",
      "outputs": [],
      "execution_count": null,
      "source": []
    },
    {
      "metadata": {
        "id": "xZMmPSqx3EV0"
      },
      "cell_type": "code",
      "outputs": [],
      "execution_count": null,
      "source": [
        "# !cat solutions/01_25.py"
      ]
    },
    {
      "metadata": {
        "id": "jBaNg1XR3EV0"
      },
      "cell_type": "markdown",
      "source": [
        "**Advanced slicing allows us to set how the list's index will increment between the start/stop indexes we select.**  \n",
        "The slicing then looks like this: [start:stop:step]  \n",
        "For example, if we want to select every third items of a list, we will set the step as 3."
      ]
    },
    {
      "metadata": {
        "id": "9bUIAgAX3EV0"
      },
      "cell_type": "markdown",
      "source": [
        ">Get every other items from the list of greetings"
      ]
    },
    {
      "metadata": {
        "id": "aeIV8re-3EV0"
      },
      "cell_type": "code",
      "outputs": [],
      "execution_count": null,
      "source": []
    },
    {
      "metadata": {
        "id": "wv43X9FQ3EV0"
      },
      "cell_type": "code",
      "outputs": [],
      "execution_count": null,
      "source": [
        "# !cat solutions/01_26.py"
      ]
    },
    {
      "metadata": {
        "id": "pID9I7q23EV0"
      },
      "cell_type": "markdown",
      "source": [
        "**We can update a list by re-assigning a value selected using a slice.**  \n",
        "For example, we can replace False with 'Ave' in list_greeting."
      ]
    },
    {
      "metadata": {
        "id": "siyjSX_h3EV0"
      },
      "cell_type": "code",
      "outputs": [],
      "execution_count": null,
      "source": [
        "list_greeting[-1] = 'Ave'\n",
        "print(list_greeting)"
      ]
    },
    {
      "metadata": {
        "id": "JuKOa7dQ3EV0"
      },
      "cell_type": "markdown",
      "source": [
        ">Replace 10 with Hola in list_greetings, then print list_greeting to check it."
      ]
    },
    {
      "metadata": {
        "id": "FzaP8wa13EV0"
      },
      "cell_type": "code",
      "outputs": [],
      "execution_count": null,
      "source": []
    },
    {
      "metadata": {
        "id": "5EiGyFes3EV1"
      },
      "cell_type": "code",
      "outputs": [],
      "execution_count": null,
      "source": [
        "# !cat solutions/01_27.py"
      ]
    },
    {
      "metadata": {
        "id": "Vq6HNe_E3EV1"
      },
      "cell_type": "markdown",
      "source": [
        "We can have lists inside a list, these are often called \"nested lists\":"
      ]
    },
    {
      "metadata": {
        "id": "hkfReICo3EV1"
      },
      "cell_type": "code",
      "outputs": [],
      "execution_count": null,
      "source": [
        "list_of_lists = [[1, 2, 3], [4, 5]]"
      ]
    },
    {
      "metadata": {
        "id": "DOtATYY43EV1"
      },
      "cell_type": "code",
      "outputs": [],
      "execution_count": null,
      "source": [
        "list_of_lists[0]  # access the first element of the list, which is a list."
      ]
    },
    {
      "metadata": {
        "id": "GFEItW4K3EV1"
      },
      "cell_type": "code",
      "outputs": [],
      "execution_count": null,
      "source": [
        "list_of_lists[0][-1]  # access the last element of the first list."
      ]
    },
    {
      "metadata": {
        "id": "0zBNvV2T3EV1"
      },
      "cell_type": "markdown",
      "source": [
        "We can concatenate lists using ' + '."
      ]
    },
    {
      "metadata": {
        "id": "MBDmG2P13EV1"
      },
      "cell_type": "code",
      "outputs": [],
      "execution_count": null,
      "source": [
        "[1, 2, 3] + [4, 5, 6]"
      ]
    },
    {
      "metadata": {
        "id": "SXqww7zN3EV1"
      },
      "cell_type": "markdown",
      "source": [
        "We can also use the multiplication to repeat values in a list (only works with integers)."
      ]
    },
    {
      "metadata": {
        "id": "ku8YP0w13EV1"
      },
      "cell_type": "code",
      "outputs": [],
      "execution_count": null,
      "source": [
        "['Hey'] * 5"
      ]
    },
    {
      "metadata": {
        "id": "q2dmFZf_3EV1"
      },
      "cell_type": "markdown",
      "source": [
        "We can also use `in` / `not in` with lists."
      ]
    },
    {
      "metadata": {
        "id": "HxCTL3FS3EV1"
      },
      "cell_type": "markdown",
      "source": [
        ">Check if `10` is in `list_greeting`."
      ]
    },
    {
      "metadata": {
        "id": "He6wV9cU3EV2"
      },
      "cell_type": "code",
      "outputs": [],
      "execution_count": null,
      "source": []
    },
    {
      "metadata": {
        "id": "49QADWbf3EV2"
      },
      "cell_type": "code",
      "outputs": [],
      "execution_count": null,
      "source": [
        "# !cat solutions/01_28.py"
      ]
    },
    {
      "metadata": {
        "id": "6M757JL83EV2"
      },
      "cell_type": "markdown",
      "source": [
        ">Check if 'Ole' is not in list_greeting."
      ]
    },
    {
      "metadata": {
        "id": "8a22C0NH3EV2"
      },
      "cell_type": "code",
      "outputs": [],
      "execution_count": null,
      "source": []
    },
    {
      "metadata": {
        "id": "Wpk9ma4v3EV2"
      },
      "cell_type": "code",
      "outputs": [],
      "execution_count": null,
      "source": [
        "# !cat solutions/01_29.py"
      ]
    },
    {
      "metadata": {
        "id": "Qd0k-IhH3EV2"
      },
      "cell_type": "markdown",
      "source": [
        "---\n",
        "\n",
        "<div class=\"alert alert-block alert-warning\" style=\"padding: 0px; padding-left: 20px; padding-top: 5px;\"><h2 style=\"color: #301E40\">\n",
        "Built-in functions\n",
        "</h2><br>\n",
        "</div>"
      ]
    },
    {
      "metadata": {
        "id": "X3gn-BiW3EV2"
      },
      "cell_type": "markdown",
      "source": [
        "You've seen your first function at the very beginning of this notebook, i.e. `print(\"Hello World\")`. Functions are a way for you to write reusable code. In the case before `print()` is Python's way for you to show an output you provide. However, there are many other useful functions that Python comes with, that are provided by other libraries, or written by you yourself to save you from repeating some code.\n",
        "\n",
        "The functions that are always available in Python can be found here:\n",
        "https://docs.python.org/3/library/functions.html"
      ]
    },
    {
      "metadata": {
        "id": "tPVO9faZ3EV2"
      },
      "cell_type": "markdown",
      "source": [
        ">Print *'Here we are!'*."
      ]
    },
    {
      "metadata": {
        "id": "Fa05jXoW3EV2"
      },
      "cell_type": "code",
      "outputs": [],
      "execution_count": null,
      "source": []
    },
    {
      "metadata": {
        "id": "6RHLQGzb3EV2"
      },
      "cell_type": "code",
      "outputs": [],
      "execution_count": null,
      "source": [
        "# !cat solutions/01_30.py"
      ]
    },
    {
      "metadata": {
        "id": "d8KxqT8F3EV2"
      },
      "cell_type": "markdown",
      "source": [
        ">Compute the length of the string variable `snakes`."
      ]
    },
    {
      "metadata": {
        "id": "NybMdKQy3EV2"
      },
      "cell_type": "code",
      "outputs": [],
      "execution_count": null,
      "source": [
        "snakes = \"🐍🐍🐍🐍🐍🐍🐍🐍🐍🐍🐍🐍🐍🐍🐍🐍🐍🐍🐍🐍🐍🐍🐍🐍🐍🐍🐍🐍🐍🐍🐍🐍🐍🐍🐍🐍🐍🐍🐍🐍🐍🐍\""
      ]
    },
    {
      "metadata": {
        "id": "-SvSmTx23EV3"
      },
      "cell_type": "code",
      "outputs": [],
      "execution_count": null,
      "source": []
    },
    {
      "metadata": {
        "id": "cuWWFAmZ3EV3"
      },
      "cell_type": "code",
      "outputs": [],
      "execution_count": null,
      "source": [
        "# !cat solutions/01_31.py"
      ]
    },
    {
      "metadata": {
        "id": "QwrgVIO33EV3"
      },
      "cell_type": "markdown",
      "source": [
        ">Compute the length of list_greeting."
      ]
    },
    {
      "metadata": {
        "id": "oEkTyiXu3EV3"
      },
      "cell_type": "code",
      "outputs": [],
      "execution_count": null,
      "source": []
    },
    {
      "metadata": {
        "id": "RU8425653EV3"
      },
      "cell_type": "code",
      "outputs": [],
      "execution_count": null,
      "source": [
        "# !cat solutions/01_32.py"
      ]
    },
    {
      "metadata": {
        "id": "dbwi8l5E3EV3"
      },
      "cell_type": "markdown",
      "source": [
        ">Work out the maximum of 1, 2, 3, 4 and 5."
      ]
    },
    {
      "metadata": {
        "id": "JvHvgEHM3EV3"
      },
      "cell_type": "code",
      "outputs": [],
      "execution_count": null,
      "source": []
    },
    {
      "metadata": {
        "id": "7JUMTY-y3EV3"
      },
      "cell_type": "code",
      "outputs": [],
      "execution_count": null,
      "source": [
        "# !cat solutions/01_33.py"
      ]
    },
    {
      "metadata": {
        "id": "x10YGc883EV3"
      },
      "cell_type": "markdown",
      "source": [
        ">Round the number 123.45 to the nearest integer."
      ]
    },
    {
      "metadata": {
        "id": "rq6oZV823EV3"
      },
      "cell_type": "code",
      "outputs": [],
      "execution_count": null,
      "source": []
    },
    {
      "metadata": {
        "id": "bRXY2QaL3EV3"
      },
      "cell_type": "code",
      "outputs": [],
      "execution_count": null,
      "source": [
        "# !cat solutions/01_34.py"
      ]
    },
    {
      "metadata": {
        "id": "A-EzElAX3EV3"
      },
      "cell_type": "markdown",
      "source": [
        ">Round the number 123.45 to 1 decimal place."
      ]
    },
    {
      "metadata": {
        "id": "vFeA0m9U3EV4"
      },
      "cell_type": "code",
      "outputs": [],
      "execution_count": null,
      "source": []
    },
    {
      "metadata": {
        "id": "MP_H4qH43EV4"
      },
      "cell_type": "code",
      "outputs": [],
      "execution_count": null,
      "source": [
        "# !cat solutions/01_35.py"
      ]
    },
    {
      "metadata": {
        "id": "jOA_3ysb3EV4"
      },
      "cell_type": "markdown",
      "source": [
        "---\n",
        "\n",
        "<div class=\"alert alert-block alert-warning\" style=\"padding: 0px; padding-left: 20px; padding-top: 5px;\"><h2 style=\"color: #301E40\">\n",
        "Methods\n",
        "</h2><br>\n",
        "</div>"
      ]
    },
    {
      "metadata": {
        "id": "9fbfRIbA3EV4"
      },
      "cell_type": "markdown",
      "source": [
        "A method is a function associated to an object. Basically, it provides a way for an object to know functions about themselves.\n",
        "\n",
        "For example, we can change the string `s` to upper case using the `.upper()` method."
      ]
    },
    {
      "metadata": {
        "id": "k_Q3GGhp3EV4"
      },
      "cell_type": "code",
      "outputs": [],
      "execution_count": null,
      "source": [
        "s.upper()"
      ]
    },
    {
      "metadata": {
        "id": "TxiVi1X43EV4"
      },
      "cell_type": "markdown",
      "source": [
        ">Using the append method, add 'Aloha' to list_greeting."
      ]
    },
    {
      "metadata": {
        "id": "aYuU0P4b3EV4"
      },
      "cell_type": "code",
      "outputs": [],
      "execution_count": null,
      "source": []
    },
    {
      "metadata": {
        "id": "9dkfj0bW3EV4"
      },
      "cell_type": "code",
      "outputs": [],
      "execution_count": null,
      "source": [
        "# !cat solutions/01_36.py"
      ]
    },
    {
      "metadata": {
        "id": "M8A28e6G3EV4"
      },
      "cell_type": "markdown",
      "source": [
        "---\n",
        "\n",
        "<div class=\"alert alert-block alert-warning\" style=\"padding: 0px; padding-left: 20px; padding-top: 5px;\"><h2 style=\"color: #301E40\">\n",
        "Importing modules\n",
        "</h2><br>\n",
        "</div>"
      ]
    },
    {
      "metadata": {
        "id": "B9aj2V4q3EV4"
      },
      "cell_type": "markdown",
      "source": [
        "We can import modules (Python code that can define functions, classes and variables).\n",
        "\n",
        "Usually, we write all the imports at the beginning of a Python program or notebook."
      ]
    },
    {
      "metadata": {
        "id": "8MPyrsDZ3EV4"
      },
      "cell_type": "markdown",
      "source": [
        "**A small warning**  \n",
        "Ensure you trust the packages you're installing!\n",
        "\n",
        "Ask:\n",
        "1. Who wrote this code?\n",
        "2. Do I trust giving their code access to my computer?\n",
        "3. `pip install` especially can be a little more dangerous, anyone can upload something to the Python Package Index (\"PyPI\" for short), which is where `pip` installs from. So be very careful especially as the smallest typo can be a security risk!\n",
        "4. `conda install` is more of a walled garden and as such better positioned for enterprise usage."
      ]
    },
    {
      "metadata": {
        "id": "zlI-Z-hy3EV4"
      },
      "cell_type": "markdown",
      "source": [
        "> From the **math** library, import **sqrt** to work out the square root of **24 336**."
      ]
    },
    {
      "metadata": {
        "id": "hDK55iLu3EV4"
      },
      "cell_type": "code",
      "outputs": [],
      "execution_count": null,
      "source": []
    },
    {
      "metadata": {
        "id": "u1ShuMn_3EV5"
      },
      "cell_type": "code",
      "outputs": [],
      "execution_count": null,
      "source": [
        "# !cat solutions/01_37.py"
      ]
    },
    {
      "metadata": {
        "id": "Wie7T4AN3EV5"
      },
      "cell_type": "markdown",
      "source": [
        "Python programmers really are lazy! (Or obsessive about productivity, take your pick!)\n",
        "\n",
        "Hence, you can define aliases for imports. The `as np` is two characters long, whereas `numpy` is five. It's less to type, when you write long programs.\n",
        "\n",
        "> Import `numpy as np` and try **`np.sin(np.pi/4)`**."
      ]
    },
    {
      "metadata": {
        "id": "93o2gv8o3EV5"
      },
      "cell_type": "code",
      "outputs": [],
      "execution_count": null,
      "source": []
    },
    {
      "metadata": {
        "id": "qGMH8et73EV5"
      },
      "cell_type": "code",
      "outputs": [],
      "execution_count": null,
      "source": [
        "# !cat solutions/01_38.py"
      ]
    },
    {
      "cell_type": "markdown",
      "metadata": {
        "id": "92bic3i73EV5"
      },
      "source": [
        "---\n",
        "\n",
        "# 🎉 Congratulations, you made it to the end of Notebook 1! 🎉\n",
        "Take a well deserved break, brew a relaxing beverage of your choice or go have a snack, maybe share a picture of your snack/drink in the #random channel, we love to see pictures from everyone attending around the world. ☕️\n",
        "\n",
        "![](https://media0.giphy.com/media/3otPoS81loriI9sO8o/200.gif)\n"
      ]
    }
  ],
  "metadata": {
    "kernelspec": {
      "display_name": "Python (beginners-data-workshop)",
      "language": "python",
      "name": "beginners-data-workshop"
    },
    "language_info": {
      "codemirror_mode": {
        "name": "ipython",
        "version": 3
      },
      "file_extension": ".py",
      "mimetype": "text/x-python",
      "name": "python",
      "nbconvert_exporter": "python",
      "pygments_lexer": "ipython3",
      "version": "3.12.3"
    },
    "colab": {
      "provenance": [],
      "include_colab_link": true
    }
  },
  "nbformat": 4,
  "nbformat_minor": 0
}